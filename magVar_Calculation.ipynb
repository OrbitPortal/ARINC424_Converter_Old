{
  "nbformat": 4,
  "nbformat_minor": 0,
  "metadata": {
    "colab": {
      "name": "magVar Calculation.ipynb",
      "provenance": [],
      "authorship_tag": "ABX9TyMf3iVVJCiVjUskKIENYtFm",
      "include_colab_link": true
    },
    "kernelspec": {
      "name": "python3",
      "display_name": "Python 3"
    }
  },
  "cells": [
    {
      "cell_type": "markdown",
      "metadata": {
        "id": "view-in-github",
        "colab_type": "text"
      },
      "source": [
        "<a href=\"https://colab.research.google.com/github/OrbitPortal/ARINC424_Converter/blob/master/magVar_Calculation.ipynb\" target=\"_parent\"><img src=\"https://colab.research.google.com/assets/colab-badge.svg\" alt=\"Open In Colab\"/></a>"
      ]
    },
    {
      "cell_type": "code",
      "metadata": {
        "id": "GOX_LXt8fCZ_",
        "colab_type": "code",
        "colab": {}
      },
      "source": [
        "import pandas\n",
        "import numpy as np\n",
        "magVar = pandas.read_csv('https://www.ngdc.noaa.gov/geomag-web/calculators/calculateIgrfgrid?browserRequest=true&lat1=14&lat1Hemisphere=N&lat2=54&lat2Hemisphere=N&latStepSize=1.0&lon1=72&lon1Hemisphere=E&lon2=136&lon2Hemisphere=E&lonStepSize=1.0&coordinateSystem=M&elevation=0&elevationUnits=K&magneticComponent=d&model=WMM&startYear=2020&startMonth=3&startDay=10&endYear=2020&endMonth=3&endDay=10&dateStepSize=1.0&resultFormat=csv', header = None, names = ('Time','LAT','LON','elev','Var','Var_sv','Var_uncert'), skiprows = 14, dtype = np.float64 )\n",
        "magVar = magVar[['LAT','LON','Var']].sort_values(['LAT','LON'], ascending=True)\n",
        "magVar = round(magVar.loc[(magVar['LAT']== float(\"43\")) & (magVar['LON']== float(\"89\"))].Var.min() , 2)\n",
        "magVar"
      ],
      "execution_count": 0,
      "outputs": []
    }
  ]
}