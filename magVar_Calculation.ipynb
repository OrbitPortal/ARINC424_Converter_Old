{
  "nbformat": 4,
  "nbformat_minor": 0,
  "metadata": {
    "colab": {
      "name": "magVar Calculation.ipynb",
      "provenance": [],
      "collapsed_sections": [],
      "include_colab_link": true
    },
    "kernelspec": {
      "name": "python3",
      "display_name": "Python 3"
    }
  },
  "cells": [
    {
      "cell_type": "markdown",
      "metadata": {
        "id": "view-in-github",
        "colab_type": "text"
      },
      "source": [
        "<a href=\"https://colab.research.google.com/github/OrbitPortal/ARINC424_Converter/blob/master/magVar_Calculation.ipynb\" target=\"_parent\"><img src=\"https://colab.research.google.com/assets/colab-badge.svg\" alt=\"Open In Colab\"/></a>"
      ]
    },
    {
      "cell_type": "code",
      "metadata": {
        "id": "GOX_LXt8fCZ_",
        "colab_type": "code",
        "colab": {}
      },
      "source": [
        "import os\n",
        "import string\n",
        "import time\n",
        "import urllib.request\n",
        "\n",
        "import numpy as np\n",
        "import pandas\n",
        "\n",
        "def magVar_Calc1(LAT, LON):\n",
        "    if LAT >= 14 and LAT <= 54 and LON >= 72 and LON <= 136:\n",
        "        Global = False\n",
        "    else:\n",
        "        Global = True\n",
        "    if Global:\n",
        "        if os.path.isfile('magVar_' + time.strftime('%Y-%m') + '_Global.csv') != True:\n",
        "            # Get Global Magnetic Field Data from NCEI (grid: 1 * 1 deg)\n",
        "            url = 'https://www.ngdc.noaa.gov/geomag-web/calculators/calculateIgrfgrid?browserRequest=true&lat1=89&lat1Hemisphere=S&lat2=89&lat2Hemisphere=N&latStepSize=1.0&lon1=180&lon1Hemisphere=W&lon2=180&lon2Hemisphere=E&lonStepSize=1.0&coordinateSystem=M&elevation=0&elevationUnits=K&magneticComponent=d&model=IGRF&startYear=' + time.strftime('%Y') + '&startMonth=' + time.strftime('%m') + '&startDay=1&endYear=' + time.strftime('%Y') + '&endMonth=' + time.strftime('%m') + '&endDay=31&dateStepSize=1.0&resultFormat=csv'\n",
        "            urllib.request.urlretrieve(url,'magVar_' + time.strftime('%Y-%m') + '_Global.csv')\n",
        "        magVar_tb = pandas.read_csv('magVar_' + time.strftime('%Y-%m') + '_Global.csv', header = None, names = ('Time','LAT','LON','elev','Var','Var_sv','Var_uncert'), skiprows = 13, dtype = np.float64 )\n",
        "        magVar = float(round(magVar_tb.loc[magVar_tb.loc[(magVar_tb['LAT'] == int(LAT)) & (magVar_tb['LON'] == round(LON))].index.tolist(), 'Var'].values[0], 2))\n",
        "    else:\n",
        "        if os.path.isfile('magVar_' + time.strftime('%Y-%m') + '.csv') != True:\n",
        "            # Get Chinese Area Magnetic Field Data from NCEI (grid: 0.1 * 0.1 deg)\n",
        "            url = 'https://www.ngdc.noaa.gov/geomag-web/calculators/calculateIgrfgrid?browserRequest=true&lat1=14&lat1Hemisphere=N&lat2=54&lat2Hemisphere=N&latStepSize=0.1&lon1=072&lon1Hemisphere=E&lon2=136&lon2Hemisphere=E&lonStepSize=0.1&coordinateSystem=M&elevation=0&elevationUnits=K&magneticComponent=d&model=IGRF&startYear=' + time.strftime('%Y') + '&startMonth=' + time.strftime('%m') + '&startDay=1&endYear=' + time.strftime('%Y') + '&endMonth=' + time.strftime('%m') + '&endDay=31&dateStepSize=1.0&resultFormat=csv'\n",
        "            urllib.request.urlretrieve(url,'magVar_' + time.strftime('%Y-%m') + '.csv')\n",
        "        magVar_tb = pandas.read_csv('magVar_' + time.strftime('%Y-%m') + '.csv', header = None, names = ('Time','LAT','LON','elev','Var','Var_sv','Var_uncert'), skiprows = 13, dtype = np.float64 )\n",
        "        magVar = float(round(magVar_tb.loc[magVar_tb.loc[(magVar_tb['LAT'] == round(float(LAT), 1)) & (magVar_tb['LON'] == round(float(LON), 1))].index.tolist(), 'Var'].values[0], 2))\n",
        "    print('The magVar at \"'+ str(LAT) + ', ' + str(LON) + '\" is: ' + str(magVar) + ' degrees.')\n",
        "    return magVar\n",
        "\n",
        "def magVar_Calc2(LAT, LON):\n",
        "    magVar_tb = pandas.read_csv('https://www.ngdc.noaa.gov/geomag-web/calculators/calculateDeclination?lat1=' + str(LAT) + '&lon1=' + str(LON) + '&model=IGRF&resultFormat=csv', header = None, names = ('Time','LAT','LON','elev','Var','Var_sv','Var_uncert'), skiprows = 13, dtype = np.float64 )\n",
        "    magVar = float(round(magVar_tb.at[0,'Var'], 2))\n",
        "    print('The magVar at \"'+ str(LAT) + ', ' + str(LON) + '\" is: ' + str(magVar) + ' degrees.')\n",
        "    return magVar\n",
        "\n",
        "\n",
        "LAT = LON = 200\n",
        "while LAT <= -90 or LAT >= 90 or LON < -180 or LON > 180:\n",
        "    LAT = input('Please input Latitude: ')\n",
        "    LON = input('Please input Longitude: ')\n",
        "    if LAT.replace('.','').replace('-','').strip(string.digits) != '' or LON.replace('.','').replace('-','').strip(string.digits) != '' or LAT == '-' or LON == '-' or LAT == '.' or LON == '.':\n",
        "        LAT = LON = 200\n",
        "        print('\\nPlease Check Your Input!\\n')\n",
        "        continue\n",
        "    else:\n",
        "        LAT = float(LAT)\n",
        "        LON = float(LON)\n",
        "\n",
        "magVar_Calc1(LAT, LON)\n",
        "magVar_Calc2(LAT, LON)\n"
      ],
      "execution_count": null,
      "outputs": []
    }
  ]
}